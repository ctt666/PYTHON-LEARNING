{
 "cells": [
  {
   "cell_type": "markdown",
   "metadata": {},
   "source": [
    "### 容器 & 迭代器\n",
    "- 容器:对象的集合--列表、元组、字典、集合\n",
    "    - 所有的容器都是可迭代的\n",
    "- 迭代器(iterator):提供了一个next方法, 返回容器的下一个对象 or StopIteration错误\n",
    "    - 可迭代对象通过iter(x)返回一个迭代器--再通过next()实现遍历--for in 将这个过程隐式化\n",
    "    - 判断是否可迭代:\n",
    "        - isinstance(obj, Iterable)\n",
    "    - [i for i in range(num)]\n",
    "### 迭代器 & 生成器\n",
    "- 生成器: 懒人版的迭代器--不需要事先生成,在调用next()函数的时候才会生成下一个变量\n",
    "    - (i for i in range(num))\n",
    "    - yield: 函数到这一行暂停,然后跳出到next(),每次next()被调用暂停复活\n",
    "    - 迭代器是一个有限集合,生成器则可以成为一个无限集--next触发\n",
    "    - 合理使用生成器,可以降低内存占用、优化程序结构、提高程序速度\n",
    "    - 生成器在 Python 2 的版本上，是协程的一种重要实现方式；而 Python 3.5 引入 async await 语法糖后，生成器实现协程的方式就已经落后了\n",
    "    - 对于一个有限元素的生成器，如果迭代完成后，继续调用 next()会 raise StopIteration。只有复位生成器才能重新进行遍历。"
   ]
  },
  {
   "cell_type": "code",
   "execution_count": 13,
   "metadata": {},
   "outputs": [
    {
     "name": "stdout",
     "output_type": "stream",
     "text": [
      "1234 is iterable? False\n",
      "1234 is iterable? True\n",
      "[1, 2, 3, 4] is iterable? True\n",
      "{1, 2, 3, 4} is iterable? True\n",
      "{1: 1, 2: 2, 3: 3, 4: 4} is iterable? True\n",
      "(1, 2, 3, 4) is iterable? True\n"
     ]
    }
   ],
   "source": [
    "def is_iterable(param):\n",
    "    try: \n",
    "        iter(param) \n",
    "        return True\n",
    "    except TypeError:\n",
    "        return False\n",
    "\n",
    "params = [\n",
    "    1234,\n",
    "    '1234',\n",
    "    [1, 2, 3, 4],\n",
    "    set([1, 2, 3, 4]),\n",
    "    {1:1, 2:2, 3:3, 4:4},\n",
    "    (1, 2, 3, 4)\n",
    "]\n",
    "    \n",
    "for param in params:\n",
    "    print('{} is iterable? {}'.format(param, is_iterable(param)))\n"
   ]
  },
  {
   "cell_type": "code",
   "execution_count": 6,
   "metadata": {},
   "outputs": [
    {
     "name": "stdout",
     "output_type": "stream",
     "text": [
      "initiating iterator memory used: 15.4375 MB\n",
      "after iterator initiated memory used: 18.4375 MB\n",
      "4999950000\n",
      "after sum called memory used: 18.890625 MB\n",
      "initiating generator memory used: 16.890625 MB\n",
      "after generator initiated memory used: 16.890625 MB\n",
      "4999950000\n",
      "after sum called memory used: 16.890625 MB\n"
     ]
    }
   ],
   "source": [
    "import os\n",
    "import psutil\n",
    "\n",
    "def show_memory_info(message):\n",
    "    pid = os.getpid()\n",
    "    p = psutil.Process(pid)\n",
    "    info = p.memory_full_info()\n",
    "    memory = info.uss / 1024 / 1024\n",
    "    print('{} memory used: {} MB'.format(message, memory))\n",
    "\n",
    "def test_iterator():\n",
    "    show_memory_info('initiating iterator')\n",
    "    list_1 = [i for i in range(100000)]\n",
    "    show_memory_info('after iterator initiated')\n",
    "    print(sum(list_1))\n",
    "    show_memory_info('after sum called')\n",
    "\n",
    "def test_generator():\n",
    "    show_memory_info('initiating generator')\n",
    "    list_1 = (i for i in range(100000))\n",
    "    show_memory_info('after generator initiated')\n",
    "    print(sum(list_1))\n",
    "    show_memory_info('after sum called')\n",
    "\n",
    "test_iterator()\n",
    "test_generator()"
   ]
  },
  {
   "cell_type": "code",
   "execution_count": 80,
   "metadata": {},
   "outputs": [
    {
     "name": "stdout",
     "output_type": "stream",
     "text": [
      "<generator object generator at 0x1048a4700>\n",
      "<generator object generator at 0x103993f40>\n",
      "next_1=1, next_3=1\n",
      "next_1=2, next_3=8\n",
      "next_1=3, next_3=27\n",
      "next_1=4, next_3=64\n",
      "next_1=5, next_3=125\n",
      "next_1=6, next_3=216\n",
      "next_1=7, next_3=343\n",
      "next_1=8, next_3=512\n",
      "1296 1296\n"
     ]
    }
   ],
   "source": [
    "def generator(k):\n",
    "    i = 1\n",
    "    while True:\n",
    "        yield i ** k\n",
    "        i += 1\n",
    "\n",
    "gen_1 = generator(1)\n",
    "gen_3 = generator(3)\n",
    "print(gen_1)\n",
    "print(gen_3)\n",
    "\n",
    "def get_sum(n):\n",
    "    sum_1, sum_3 = 0, 0\n",
    "    for i in range(n):\n",
    "        next_1 = next(gen_1)\n",
    "        next_3 = next(gen_3)\n",
    "        print('next_1={}, next_3={}'.format(next_1, next_3))\n",
    "        sum_1 += next_1\n",
    "        sum_3 += next_3\n",
    "    print(sum_1 * sum_1, sum_3)\n",
    "\n",
    "get_sum(8)"
   ]
  },
  {
   "cell_type": "markdown",
   "metadata": {},
   "source": [
    "#### 给定一个 list 和一个指定数字，求这个数字在 list 中的位置。"
   ]
  },
  {
   "cell_type": "code",
   "execution_count": 145,
   "metadata": {},
   "outputs": [
    {
     "name": "stdout",
     "output_type": "stream",
     "text": [
      "[2, 5, 8]\n",
      "[2, 5, 8]\n"
     ]
    }
   ],
   "source": [
    "def index_normal(L, target):\n",
    "    result = []\n",
    "    for i, num in enumerate(L):\n",
    "        if num == target:\n",
    "            result.append(i)\n",
    "    return result\n",
    "\n",
    "print(index_normal([1,6,2,4,5,2,8,6,2,3], 2))\n",
    "\n",
    "def index_generator(L, target):\n",
    "    for i, num in enumerate(L):\n",
    "        if num == target:\n",
    "            yield i\n",
    "# list会自动迭代生成器\n",
    "print(list(index_generator([1,6,2,4,5,2,8,6,2,3], 2)))"
   ]
  },
  {
   "cell_type": "markdown",
   "metadata": {},
   "source": [
    "#### 给定两个序列，判定第一个是不是第二个的子序列。\n",
    "序列就是列表，子序列则指的是，一个列表的元素在第二个列表中都按顺序出现，但是并不必挨在一起。"
   ]
  },
  {
   "cell_type": "code",
   "execution_count": 235,
   "metadata": {},
   "outputs": [
    {
     "name": "stdout",
     "output_type": "stream",
     "text": [
      "True\n",
      "False\n"
     ]
    }
   ],
   "source": [
    "def is_subsequence(a, b):\n",
    "    b = iter(b)\n",
    "    return all(i in b for i in a)\n",
    "\n",
    "print(is_subsequence([1, 3, 5], [1, 2, 3, 4, 5]))\n",
    "print(is_subsequence([1, 4, 3], [1, 2, 3, 4, 5]))"
   ]
  },
  {
   "cell_type": "code",
   "execution_count": 231,
   "metadata": {},
   "outputs": [
    {
     "name": "stdout",
     "output_type": "stream",
     "text": [
      "<list_iterator object at 0x103c7e7a0>\n",
      "<generator object is_subsequence.<locals>.<genexpr> at 0x103acca00>\n",
      "1\n",
      "3\n",
      "5\n",
      "<generator object is_subsequence.<locals>.<genexpr> at 0x10495cad0>\n",
      "True\n",
      "True\n",
      "True\n",
      "False\n",
      "<list_iterator object at 0x103c7f070>\n",
      "<generator object is_subsequence.<locals>.<genexpr> at 0x103acca00>\n",
      "1\n",
      "4\n",
      "3\n",
      "<generator object is_subsequence.<locals>.<genexpr> at 0x10495cad0>\n",
      "True\n",
      "True\n",
      "False\n",
      "False\n"
     ]
    }
   ],
   "source": [
    "def is_subsequence(a, b):\n",
    "    b = iter(b)\n",
    "    print(b)\n",
    "\n",
    "    gen = (i for i in a)\n",
    "    print(gen)\n",
    "    for i in gen:\n",
    "        print(i)\n",
    "    # (i in b) ==> while True:\n",
    "    #                 val = next(b)\n",
    "    #                 if val == i:\n",
    "    #                    yield True\n",
    "    gen = ((i in b) for i in a)\n",
    "    print(gen)\n",
    "    for i in gen:\n",
    "        print(i)\n",
    "\n",
    "    return all(((i in b) for i in a))\n",
    "\n",
    "print(is_subsequence([1, 3, 5], [1, 2, 3, 4, 5]))\n",
    "print(is_subsequence([1, 4, 3], [1, 2, 3, 4, 5]))"
   ]
  },
  {
   "cell_type": "code",
   "execution_count": 232,
   "metadata": {},
   "outputs": [
    {
     "name": "stdout",
     "output_type": "stream",
     "text": [
      "True\n",
      "True\n",
      "False\n"
     ]
    }
   ],
   "source": [
    "b = (i for i in range(5))\n",
    "\n",
    "print(2 in b)\n",
    "print(4 in b)\n",
    "print(3 in b)\n"
   ]
  }
 ],
 "metadata": {
  "kernelspec": {
   "display_name": "Python 3.12 (XPython)",
   "language": "python",
   "name": "xpython"
  },
  "language_info": {
   "file_extension": ".py",
   "mimetype": "text/x-python",
   "name": "python",
   "version": "3.12.1"
  }
 },
 "nbformat": 4,
 "nbformat_minor": 2
}
