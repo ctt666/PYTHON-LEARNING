{
 "cells": [
  {
   "cell_type": "markdown",
   "metadata": {},
   "source": [
    "### metaclass:python中的黑魔法\n",
    "#### 是什么?\n",
    "meta包含超越、变形的含义,metaclass也就是具有超越变形能力的类\n",
    "yaml.YAMLObject--只要简单地继承 yaml.YAMLObject，就能让你的 Python Object 具有序列化和逆序列化能力--YAML 的这种动态序列化 / 逆序列化功能正是用 metaclass 实现的\n",
    "- 实现原理:\n",
    "    - YAMLObject 把 metaclass 都声明成了 YAMLObjectMetaclass\n",
    "    - 全局注册器:YAMLObjectMetaclass的__init__函数添加注册逻辑\n",
    "#### 装饰器和metaclass的区别和联系\n",
    "    - 都是用于修改类或函数的行为的高级特性\n",
    "    - 装饰器是一个函数或类,主要作用是在不修改原始代码的情况下,扩展或增强函数功能\n",
    "    - metaclass的type的子类,用来创建类的类.主要作用是在类被创建的时候动态修改类的行为(属性、方法、继承关系)\n",
    "#### 设计原理\n",
    "- 类型模型\n",
    "    - 所有的python自定义类,都是type类的实例\n",
    "    - 自定义类,是type类的__call__重载:定义一个类的语句结束时，真正发生的情况，是 Python 调用 type 的__call__运算符--type(classname, superclasses, attributedict)，就是 type 的__call__运算符重载\n",
    "    - metaclass 是 type 的子类，通过替换 type 的__call__运算符重载机制，“超越变形”正常的类。--一旦你把一个类型 MyClass 的 metaclass 设置成 MyMeta，MyClass 就不再由原生的 type 创建，而是会调用 MyMeta 的__call__运算符重载。\n"
   ]
  },
  {
   "cell_type": "code",
   "execution_count": 1,
   "metadata": {},
   "outputs": [
    {
     "name": "stdout",
     "output_type": "stream",
     "text": [
      "<class '__main__.MyClass'> <__main__.MyClass object at 0x108813c20>\n",
      "1\n",
      "<class '__main__.MyClass'> <__main__.MyClass object at 0x10886ca10>\n",
      "1\n"
     ]
    }
   ],
   "source": [
    "class MyClass:\n",
    "  data = 1\n",
    "  \n",
    "instance = MyClass()\n",
    "print(MyClass, instance)\n",
    "print(instance.data)\n",
    "\n",
    "MyClass = type('MyClass', (), {'data': 1})\n",
    "instance = MyClass()\n",
    "print(MyClass, instance)\n",
    "print(instance.data)"
   ]
  },
  {
   "cell_type": "code",
   "execution_count": 7,
   "metadata": {},
   "outputs": [
    {
     "name": "stdout",
     "output_type": "stream",
     "text": [
      "===>Mymeta.__new__\n",
      "Mymeta\n",
      "===>Mymeta.__init__\n",
      "Foo\n",
      "{'__module__': '__main__', '__qualname__': 'Foo', 'yaml_tag': '!Foo', '__init__': <function Foo.__init__ at 0x103f747c0>, '__new__': <function Foo.__new__ at 0x103f74720>}\n",
      "!Foo\n",
      "===>Mymeta.__new__\n",
      "Mymeta\n",
      "===>Mymeta.__init__\n",
      "Foo1\n",
      "{'__module__': '__main__', '__qualname__': 'Foo1', 'yaml_tag': '!Foo', '__init__': <function Foo1.__init__ at 0x103f74900>, '__new__': <function Foo1.__new__ at 0x103f749a0>}\n",
      "!Foo\n"
     ]
    }
   ],
   "source": [
    "class Mymeta(type):\n",
    "    def __init__(self, name, bases, dic):\n",
    "        super().__init__(name, bases, dic)\n",
    "        print('===>Mymeta.__init__')\n",
    "        print(self.__name__)\n",
    "        print(dic)\n",
    "        print(self.yaml_tag)\n",
    "\n",
    "    def __new__(cls, *args, **kwargs):\n",
    "        print('===>Mymeta.__new__')\n",
    "        print(cls.__name__)\n",
    "        return type.__new__(cls, *args, **kwargs)\n",
    "\n",
    "    def __call__(cls, *args, **kwargs):\n",
    "        print('===>Mymeta.__call__')\n",
    "        obj = cls.__new__(cls)\n",
    "        cls.__init__(cls, *args, **kwargs)\n",
    "        return obj\n",
    "    \n",
    "class Foo(metaclass=Mymeta):\n",
    "    yaml_tag = '!Foo'\n",
    "\n",
    "    def __init__(self, name):\n",
    "        print('Foo.__init__')\n",
    "        self.name = name\n",
    "\n",
    "    def __new__(cls, *args, **kwargs):\n",
    "        print('Foo.__new__')\n",
    "        return object.__new__(cls)\n",
    "\n",
    "class Foo1(Foo):\n",
    "    yaml_tag = '!Foo'\n",
    "\n",
    "    def __init__(self, name):\n",
    "        print('Foo.__init__')\n",
    "        self.name = name\n",
    "\n",
    "    def __new__(cls, *args, **kwargs):\n",
    "        print('Foo.__new__')\n",
    "        return object.__new__(cls)"
   ]
  },
  {
   "cell_type": "code",
   "execution_count": 2,
   "metadata": {},
   "outputs": [
    {
     "name": "stdout",
     "output_type": "stream",
     "text": [
      "===>Mymeta.__call__\n",
      "Foo.__new__\n",
      "Foo.__init__\n"
     ]
    }
   ],
   "source": [
    "# 单例demo\n",
    "class SingletonMeta(type):\n",
    "    _instances = {}\n",
    "    \n",
    "    def __call__(cls, *args, **kwargs):\n",
    "        if cls not in cls._instances:\n",
    "            cls._instances[cls] = super().__call__(*args, **kwargs)\n",
    "        return cls._instances[cls]\n",
    "\n",
    "# 使用元类创建一个单例类\n",
    "class SingletonClass(metaclass=SingletonMeta):\n",
    "    def __init__(self, value):\n",
    "        self.value = value\n",
    "\n",
    "# 测试\n",
    "obj1 = SingletonClass(10)\n",
    "obj2 = SingletonClass(20)\n",
    "\n",
    "print(obj1 is obj2)  # True\n",
    "print(obj1.value)    # 10\n",
    "print(obj2.value)    # 10"
   ]
  }
 ],
 "metadata": {
  "kernelspec": {
   "display_name": "base",
   "language": "python",
   "name": "python3"
  },
  "language_info": {
   "codemirror_mode": {
    "name": "ipython",
    "version": 3
   },
   "file_extension": ".py",
   "mimetype": "text/x-python",
   "name": "python",
   "nbconvert_exporter": "python",
   "pygments_lexer": "ipython3",
   "version": "3.12.4"
  }
 },
 "nbformat": 4,
 "nbformat_minor": 2
}
