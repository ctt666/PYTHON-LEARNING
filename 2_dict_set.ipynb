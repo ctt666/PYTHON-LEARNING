{
 "cells": [
  {
   "cell_type": "markdown",
   "metadata": {},
   "source": [
    "## 基础特性\n",
    "### 字典\n",
    "- 在 Python3.7+，字典被确定为有序,长度大小可变，元素可以任意地删减和改变。\n",
    "- 性能方面,对于查找、添加和删除操作，字典都能在常数时间复杂度内完成。\n",
    "### 集合\n",
    "- 相较于字典,集合没有键和值的配对，是一系列无序的、唯一的元素组合。"
   ]
  },
  {
   "cell_type": "markdown",
   "metadata": {},
   "source": [
    "## 初始化\n",
    "- 字典的key需要是不可变的,所以不可以为列表这类可变的数据结构(key 首先是不重复的，如果 Key 是可以变化的话，那么随着 Key 的变化，这里就有可能就会有重复的 Key)"
   ]
  },
  {
   "cell_type": "code",
   "execution_count": 3,
   "metadata": {},
   "outputs": [
    {
     "name": "stdout",
     "output_type": "stream",
     "text": [
      "True\n",
      "True\n"
     ]
    }
   ],
   "source": [
    "d1 = {'name': 'ctt', 'age': 31}\n",
    "d2 = dict({'name': 'ctt', 'age': 31})\n",
    "d3 = dict([('name', 'ctt'),('age', 31)])\n",
    "d4 = dict(name='ctt', age=31)\n",
    "print(d1 == d2 == d3 == d4)\n",
    "\n",
    "s1 = {1, 2, 3}\n",
    "s2 = set({1, 2, 3})\n",
    "print(s1 == s2)"
   ]
  },
  {
   "cell_type": "markdown",
   "metadata": {},
   "source": [
    "## 元素访问\n",
    "- 字典:直接索引访问,如果不存在,抛异常;get(key, default) 函数来进行索引\n",
    "- 集合:不支持索引操作,如s[0](本质上是哈希表)\n",
    "- 判断元素是否存在: key in dict / value in set\n",
    "- 支持增加、删除、更新(集合不支持)、排序(需要可比较) 操作"
   ]
  },
  {
   "cell_type": "code",
   "execution_count": 4,
   "metadata": {},
   "outputs": [
    {
     "ename": "KeyError",
     "evalue": "'gender'",
     "output_type": "error",
     "traceback": [
      "\u001b[0;31m---------------------------------------------------------------------------\u001b[0m",
      "\u001b[0;31mKeyError\u001b[0m                                  Traceback (most recent call last)",
      "Cell \u001b[0;32mIn[4], line 2\u001b[0m\n\u001b[1;32m      1\u001b[0m \u001b[38;5;66;03m# dict\u001b[39;00m\n\u001b[0;32m----> 2\u001b[0m \u001b[43md1\u001b[49m\u001b[43m[\u001b[49m\u001b[38;5;124;43m'\u001b[39;49m\u001b[38;5;124;43mgender\u001b[39;49m\u001b[38;5;124;43m'\u001b[39;49m\u001b[43m]\u001b[49m\n",
      "\u001b[0;31mKeyError\u001b[0m: 'gender'"
     ]
    }
   ],
   "source": [
    "# dict\n",
    "d1['gender']"
   ]
  },
  {
   "cell_type": "code",
   "execution_count": 7,
   "metadata": {},
   "outputs": [
    {
     "data": {
      "text/plain": [
       "'null'"
      ]
     },
     "execution_count": 7,
     "metadata": {},
     "output_type": "execute_result"
    }
   ],
   "source": [
    "d1.get('gender', 'null')"
   ]
  },
  {
   "cell_type": "code",
   "execution_count": 9,
   "metadata": {},
   "outputs": [
    {
     "name": "stdout",
     "output_type": "stream",
     "text": [
      "True\n",
      "True\n"
     ]
    }
   ],
   "source": [
    "# dict\n",
    "print('name' in d1)\n",
    "\n",
    "# set\n",
    "print(1 in s1)"
   ]
  },
  {
   "cell_type": "code",
   "execution_count": 33,
   "metadata": {},
   "outputs": [
    {
     "name": "stdout",
     "output_type": "stream",
     "text": [
      "{'name': 'ctt', 'age': 26, 'gender': 'female'}\n",
      "{'name': 'ctt', 'age': 20}\n",
      "{1, 2, 3, 5, 6, 55, 'ctt'}\n",
      "{1, 2, 3, 5, 6, 55}\n",
      "{1, 2, 3, 5, 6}\n"
     ]
    }
   ],
   "source": [
    "# dict\n",
    "d1['gender'] = 'female'\n",
    "d1['age'] = 26\n",
    "print(d1)\n",
    "d1.update([('age', 20)])\n",
    "d1.pop('gender')\n",
    "print(d1)\n",
    "\n",
    "\n",
    "# set\n",
    "s1.update([5, 55, 'ctt'])\n",
    "print(s1)\n",
    "s1.add(6)\n",
    "s1.discard('ctt')\n",
    "print(s1)\n",
    "s1.remove(55) # 需要确保元素在集合中,否则报错\n",
    "print(s1)\n"
   ]
  },
  {
   "cell_type": "code",
   "execution_count": 31,
   "metadata": {},
   "outputs": [
    {
     "name": "stdout",
     "output_type": "stream",
     "text": [
      "[('age', '22'), ('name', 'ctt')]\n",
      "[('age', '22'), ('name', 'ctt')]\n",
      "{1, 2, 3, 5, 6, 55}\n",
      "[1, 2, 3, 5, 6, 55]\n",
      "{1, 2, 3, 5, 6}\n"
     ]
    }
   ],
   "source": [
    "# dict\n",
    "d1['age'] = '22'\n",
    "d1_sorted_by_key = sorted(d1.items(), key = lambda x : x[0])\n",
    "d1_sorted_by_value = sorted(d1.items(), key = lambda x : x[1])\n",
    "print(d1_sorted_by_key)\n",
    "print(d1_sorted_by_value)\n",
    "\n",
    "# set\n",
    "print(sorted(s1))\n"
   ]
  },
  {
   "cell_type": "markdown",
   "metadata": {},
   "source": [
    "## 工作原理\n",
    "- 字典和集合的内部结构都是一张哈希表。\n",
    "    - 字典: 这张表存储了哈希值（hash）、键和值这 3 个元素。\n",
    "    - 集合: 哈希表内没有键和值的配对，只有单一的元素\n",
    "- 为了提高存储空间的利用率，现在的哈希表除了字典本身的结构，会把索引和哈希值、键、值单独分开,兼顾空间效率和有序,输出如下所示:\n",
    "\n",
    "Indices\n",
    "----------------------------------------------------\n",
    "None | index | None | None | index | None | index ...\n",
    "----------------------------------------------------\n",
    "\n",
    "Entries\n",
    "--------------------\n",
    "hash0   key0  value0\n",
    "---------------------\n",
    "hash1   key1  value1\n",
    "---------------------\n",
    "hash2   key2  value2\n",
    "---------------------\n",
    "        ...\n",
    "---------------------\n",
    "    - 3.6之后通过开放寻址法解决哈希冲突\n",
    "    - 删除: Python 会暂时对这个位置的元素，赋于一个特殊的值，等到重新调整哈希表的大小时，再将其删除。\n",
    "    - rehash: 着元素的不停插入，当剩余空间小于 1/3 时，Python 会重新获取更大的内存空间，扩充哈希表。不过，这种情况下，表内所有的元素位置都会被重新排放。"
   ]
  },
  {
   "cell_type": "code",
   "execution_count": 5,
   "metadata": {},
   "outputs": [
    {
     "name": "stdout",
     "output_type": "stream",
     "text": [
      "True 72\n",
      "True 104\n"
     ]
    }
   ],
   "source": [
    "l1 = [1, 2, 3, 4]\n",
    "l2 = l1\n",
    "print(l1==l2, l1.__sizeof__())\n",
    "l1.append(5)\n",
    "print(l1==l2, l1.__sizeof__())"
   ]
  }
 ],
 "metadata": {
  "kernelspec": {
   "display_name": "base",
   "language": "python",
   "name": "python3"
  },
  "language_info": {
   "codemirror_mode": {
    "name": "ipython",
    "version": 3
   },
   "file_extension": ".py",
   "mimetype": "text/x-python",
   "name": "python",
   "nbconvert_exporter": "python",
   "pygments_lexer": "ipython3",
   "version": "3.12.4"
  }
 },
 "nbformat": 4,
 "nbformat_minor": 2
}
