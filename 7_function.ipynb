{
 "cells": [
  {
   "cell_type": "markdown",
   "id": "ba3a1bb0-1920-4df9-8b13-b67afde6a325",
   "metadata": {},
   "source": [
    "### 函数\n",
    "- 参数: 可以设置默认值,Python 是 dynamically typed 的，可以接受任何数据类型（整型，浮点，字符串等等）。--多态\n",
    "- 支持函数的嵌套定义,作用:\n",
    "    - 保证内部函数的隐私,其只能被外部函数调用和访问\n",
    "    - 合理使用可以提高程序运行效率\n",
    "- 变量作用域:\n",
    "    - 不能在函数内部随意改变全局变量值--Python 的解释器会默认函数内部的变量为局部变量，但是又发现局部变量 MIN_VALUE 并没有声明，因此就无法执行相关操作--如果我们一定要在函数内部改变全局变量的值，就必须加上 global 这个声明\n",
    "    - 对于嵌套函数,内部函数可以访问外部函数定义的变量，但是无法修改，若要修改，必须加上 nonlocal 这个关键字--否则内部函数变量会覆盖外部变量\n",
    "- 闭包: 与嵌套函数类似, 不同的是外部函数将返回一个函数而不是具体的值.--返回的函数通常赋予一个变量--通常和一起使用装饰器\n",
    "- 在Python里是不推荐使用递归的，是因为Python没有对递归做优化，使用 yield from 来代替递归会好些\n",
    "- 匿名函数: lambda argument1, argument2,... argumentN : expression"
   ]
  },
  {
   "cell_type": "code",
   "execution_count": 1,
   "id": "2a746a74-5d1e-4569-9ac7-3c2d5c5537bc",
   "metadata": {},
   "outputs": [
    {
     "name": "stdout",
     "output_type": "stream",
     "text": [
      "8\n",
      "[1, 2, 3, 4]\n"
     ]
    }
   ],
   "source": [
    "def my_sum(a, b):\n",
    "    return a + b\n",
    "\n",
    "result = my_sum(3, 5)\n",
    "print(result)\n",
    "\n",
    "print(my_sum([1, 2], [3, 4]))"
   ]
  },
  {
   "cell_type": "code",
   "execution_count": 3,
   "id": "8aa7e279-1013-4253-bf97-b32c4a5b2b81",
   "metadata": {},
   "outputs": [
    {
     "name": "stdout",
     "output_type": "stream",
     "text": [
      "hello\n",
      "world\n"
     ]
    }
   ],
   "source": [
    "def f1():\n",
    "    print('hello')\n",
    "    def f2():\n",
    "        print('world')\n",
    "    f2()\n",
    "f1()\n"
   ]
  },
  {
   "cell_type": "code",
   "execution_count": null,
   "id": "4d89bca8-74a9-4037-8785-ab04fa195644",
   "metadata": {},
   "outputs": [],
   "source": [
    "# 输入合法只需要检查一次\n",
    "def factorial(input):\n",
    "    # validation check\n",
    "    if not isinstance(input, int):\n",
    "        raise Exception('input must be an integer.')\n",
    "    if input < 0:\n",
    "        raise Exception('input must be greater or equal to 0' )\n",
    "    ...\n",
    "\n",
    "    def inner_factorial(input):\n",
    "        if input <= 1:\n",
    "            return 1\n",
    "        return input * inner_factorial(input-1)\n",
    "    return inner_factorial(input)\n",
    "\n",
    "\n",
    "print(factorial(5))"
   ]
  },
  {
   "cell_type": "code",
   "execution_count": null,
   "id": "6d7a7ba7-c690-4462-85d8-179d5c8ab0e8",
   "metadata": {},
   "outputs": [],
   "source": [
    "# global 关键字的作用并不表示重新创建了一个全局变量 MIN_VALUE，而是告诉 Python 解释器，\n",
    "# 函数内部的变量 MIN_VALUE，就是之前定义的全局变量，并不是新的全局变量\n",
    "MIN_VALUE = 1\n",
    "MAX_VALUE = 10\n",
    "def validation_check(value):\n",
    "    global MIN_VALUE\n",
    "    ...\n",
    "    MIN_VALUE += 1\n",
    "    ...\n",
    "validation_check(5)"
   ]
  },
  {
   "cell_type": "code",
   "execution_count": null,
   "id": "4be9b0a7-0911-4380-839a-bbfa0e785665",
   "metadata": {},
   "outputs": [],
   "source": [
    "def outer():\n",
    "    x = \"local\"\n",
    "    def inner():\n",
    "        nonlocal x # nonlocal关键字表示这里的x就是外部函数outer定义的变量x\n",
    "        x = 'nonlocal'\n",
    "        print(\"inner:\", x)\n",
    "    inner()\n",
    "    print(\"outer:\", x)\n",
    "outer()\n",
    "# 输出\n",
    "inner: nonlocal\n",
    "outer: nonlocal"
   ]
  },
  {
   "cell_type": "code",
   "execution_count": 1,
   "id": "09a17816-f0be-49d4-9740-f2a713a70460",
   "metadata": {},
   "outputs": [
    {
     "data": {
      "text/plain": [
       "[0, 1, 4, 9, 16, 25, 36, 49, 64, 81]"
      ]
     },
     "execution_count": 1,
     "metadata": {},
     "output_type": "execute_result"
    }
   ],
   "source": [
    "[(lambda x: x*x)(x) for x in range(10)]"
   ]
  },
  {
   "cell_type": "code",
   "execution_count": null,
   "id": "889bffb3-a848-4f23-b96a-2ce4675e86da",
   "metadata": {},
   "outputs": [],
   "source": [
    "def f(x):\n",
    "    return x * x"
   ]
  }
 ],
 "metadata": {
  "kernelspec": {
   "display_name": "Python 3.12 (XPython)",
   "language": "python",
   "name": "xpython"
  },
  "language_info": {
   "file_extension": ".py",
   "mimetype": "text/x-python",
   "name": "python",
   "version": "3.12.1"
  }
 },
 "nbformat": 4,
 "nbformat_minor": 5
}
