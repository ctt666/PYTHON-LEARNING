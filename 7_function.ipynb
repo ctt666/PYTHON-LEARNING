{
 "cells": [
  {
   "cell_type": "markdown",
   "id": "ba3a1bb0-1920-4df9-8b13-b67afde6a325",
   "metadata": {},
   "source": [
    "### 函数\n",
    "- 参数: 可以设置默认值,Python 是 dynamically typed 的，可以接受任何数据类型（整型，浮点，字符串等等）。--多态\n",
    "    - 进阶：好的代码规范，设置参数类型？？？\n",
    "- 支持函数的嵌套定义,作用:\n",
    "    - 保证内部函数的隐私,其只能被外部函数调用和访问\n",
    "    - 合理使用可以提高程序运行效率\n",
    "- 变量作用域:\n",
    "    - 不能在函数内部随意改变全局变量值--Python 的解释器会默认函数内部的变量为局部变量，但是又发现局部变量 MIN_VALUE 并没有声明，因此就无法执行相关操作--如果我们一定要在函数内部改变全局变量的值，就必须加上 global 这个声明\n",
    "        - 当全局变量指向的对象可变时（列表、字典等），虽然可以执行append之类的函数修改对象，但是并没有改变变量x（指针），x依然指向原来的列表--append实际上可以理解为访问x指向的列表，并在这个列表末尾增加元素--而不是改变x的指向\n",
    "    - 对于嵌套函数,内部函数可以访问外部函数定义的变量，但是无法修改，若要修改，必须加上 nonlocal 这个关键字--否则内部函数变量会覆盖外部变量\n",
    "- 变量赋值:\n",
    "    - 变量的赋值操作是让变量指向某个对象,并不是拷贝对象.一个对象可以被多个变量指向.\n",
    "    - 可变对象的改变,会影响关联的变量\n",
    "    - 不可变对象(字符串、整型、元组),所有关联变量值是一样的,不会改变.通过操作更新不可变对象时,会反悔一个新的对象.\n",
    "    - 变量可以被删除,对象会通过垃圾回收机制清除,不能显示删除.\n",
    "- 参数传递:\n",
    "    - python的参数传递是赋值传递或者对象的引用传递.不是指向一个具体的内存地址,而是指向一个具体的对象.python中所有的数据类型都是对象.\n",
    "- 闭包: 与嵌套函数类似, 不同的是外部函数将返回一个函数而不是具体的值.--返回的函数通常赋予一个变量--通常和一起使用装饰器\n",
    "- 在Python里是不推荐使用递归的，是因为Python没有对递归做优化（默认递归深度1000，超过报错RecursionError），使用 yield from 来代替递归会好些--简化生成器的嵌套调用\n",
    "- 匿名函数: lambda argument1, argument2,... argumentN : expression\n",
    "    - 它是一个表达式，而不是语句\n",
    "    - 主体只有一行的简单表达式，不能扩展成一个多行的代码块--专注于简单任务\n",
    "    - 作用： 简化代码复杂度，匿名函数通常的使用场景是：程序中需要使用一个函数完成一个简单的功能，并且该函数只调用一次。\n",
    "    - 匿名函数最难理解的地方就是要传入的参数是一个可迭代的对象，lambda 内部会调用可迭代对象的 __next__ 方法取值当作参数传入 lambda 函数冒号前面的值，然后把表达式计算的结果进行返回。"
   ]
  },
  {
   "cell_type": "code",
   "execution_count": 1,
   "id": "2a746a74-5d1e-4569-9ac7-3c2d5c5537bc",
   "metadata": {},
   "outputs": [
    {
     "name": "stdout",
     "output_type": "stream",
     "text": [
      "8\n",
      "[1, 2, 3, 4]\n"
     ]
    }
   ],
   "source": [
    "def my_sum(a, b):\n",
    "    return a + b\n",
    "\n",
    "result = my_sum(3, 5)\n",
    "print(result)\n",
    "\n",
    "print(my_sum([1, 2], [3, 4]))"
   ]
  },
  {
   "cell_type": "code",
   "execution_count": 1,
   "id": "8aa7e279-1013-4253-bf97-b32c4a5b2b81",
   "metadata": {},
   "outputs": [
    {
     "name": "stdout",
     "output_type": "stream",
     "text": [
      "hello\n",
      "world\n"
     ]
    }
   ],
   "source": [
    "def f1():\n",
    "    print('hello')\n",
    "    def f2():\n",
    "        print('world')\n",
    "    f2()\n",
    "f1()\n"
   ]
  },
  {
   "cell_type": "code",
   "execution_count": null,
   "id": "4d89bca8-74a9-4037-8785-ab04fa195644",
   "metadata": {},
   "outputs": [],
   "source": [
    "# 输入合法只需要检查一次\n",
    "def factorial(input):\n",
    "    # validation check\n",
    "    if not isinstance(input, int):\n",
    "        raise Exception('input must be an integer.')\n",
    "    if input < 0:\n",
    "        raise Exception('input must be greater or equal to 0' )\n",
    "    ...\n",
    "\n",
    "    def inner_factorial(input):\n",
    "        if input <= 1:\n",
    "            return 1\n",
    "        return input * inner_factorial(input-1)\n",
    "    return inner_factorial(input)\n",
    "\n",
    "\n",
    "print(factorial(5))"
   ]
  },
  {
   "cell_type": "code",
   "execution_count": null,
   "id": "6d7a7ba7-c690-4462-85d8-179d5c8ab0e8",
   "metadata": {},
   "outputs": [],
   "source": [
    "# global 关键字的作用并不表示重新创建了一个全局变量 MIN_VALUE，而是告诉 Python 解释器，\n",
    "# 函数内部的变量 MIN_VALUE，就是之前定义的全局变量，并不是新的全局变量\n",
    "MIN_VALUE = 1\n",
    "MAX_VALUE = 10\n",
    "def validation_check(value):\n",
    "    global MIN_VALUE\n",
    "    ...\n",
    "    MIN_VALUE += 1\n",
    "    ...\n",
    "validation_check(5)"
   ]
  },
  {
   "cell_type": "code",
   "execution_count": null,
   "id": "4be9b0a7-0911-4380-839a-bbfa0e785665",
   "metadata": {},
   "outputs": [],
   "source": [
    "def outer():\n",
    "    x = \"local\"\n",
    "    def inner():\n",
    "        nonlocal x # nonlocal关键字表示这里的x就是外部函数outer定义的变量x\n",
    "        x = 'nonlocal'\n",
    "        print(\"inner:\", x)\n",
    "    inner()\n",
    "    print(\"outer:\", x)\n",
    "outer()\n",
    "# 输出\n",
    "inner: nonlocal\n",
    "outer: nonlocal"
   ]
  },
  {
   "cell_type": "code",
   "execution_count": 5,
   "id": "09a17816-f0be-49d4-9740-f2a713a70460",
   "metadata": {},
   "outputs": [
    {
     "data": {
      "text/plain": [
       "[0, 1, 4, 9, 16, 25, 36, 49, 64, 81]"
      ]
     },
     "execution_count": 5,
     "metadata": {},
     "output_type": "execute_result"
    }
   ],
   "source": [
    "[(lambda x: x*x)(x) for x in range(10)]\n",
    "\n",
    "def f(x):\n",
    "    return x*x\n",
    "[f(x) for x in range(10)]\n"
   ]
  },
  {
   "cell_type": "code",
   "execution_count": 7,
   "id": "889bffb3-a848-4f23-b96a-2ce4675e86da",
   "metadata": {},
   "outputs": [
    {
     "name": "stdout",
     "output_type": "stream",
     "text": [
      "[(2, -1), (3, 0), (9, 10), (1, 20)]\n",
      "[(2, -1), (3, 0), (9, 10), (1, 20)]\n"
     ]
    }
   ],
   "source": [
    "l = [(1, 20), (3, 0), (9, 10), (2, -1)]\n",
    "l.sort(key=lambda x : x[1])\n",
    "print(l)\n",
    "# 如果不使用lambda表达式\n",
    "def f1(x):\n",
    "    return x[1]\n",
    "l.sort(key=f1)\n",
    "print(l)\n"
   ]
  },
  {
   "cell_type": "code",
   "execution_count": 8,
   "id": "75239765",
   "metadata": {},
   "outputs": [
    {
     "name": "stdout",
     "output_type": "stream",
     "text": [
      "<map object at 0x0000023A88693070>\n",
      "<map object at 0x0000023A88692230>\n"
     ]
    }
   ],
   "source": [
    "# map(function, iterable)，map生成的是生成器\n",
    "squared1 = map(lambda x: x**2, [1, 2, 3, 4, 5])\n",
    "print(squared1)\n",
    "\n",
    "def square(x):\n",
    "    return x**2\n",
    "\n",
    "squared2 = map(square, [1, 2, 3, 4, 5])\n",
    "print(squared2)\n"
   ]
  },
  {
   "cell_type": "code",
   "execution_count": 11,
   "id": "cd0feb8d",
   "metadata": {},
   "outputs": [
    {
     "ename": "KeyboardInterrupt",
     "evalue": "",
     "output_type": "error",
     "traceback": [
      "\u001b[1;31m---------------------------------------------------------------------------\u001b[0m",
      "\u001b[1;31mKeyboardInterrupt\u001b[0m                         Traceback (most recent call last)",
      "Cell \u001b[1;32mIn[11], line 8\u001b[0m\n\u001b[0;32m      3\u001b[0m button \u001b[38;5;241m=\u001b[39m Button(\n\u001b[0;32m      4\u001b[0m     text \u001b[38;5;241m=\u001b[39m \u001b[38;5;124m'\u001b[39m\u001b[38;5;124mthis is a button\u001b[39m\u001b[38;5;124m'\u001b[39m,\n\u001b[0;32m      5\u001b[0m     command \u001b[38;5;241m=\u001b[39m \u001b[38;5;28;01mlambda\u001b[39;00m: \u001b[38;5;28mprint\u001b[39m(\u001b[38;5;124m'\u001b[39m\u001b[38;5;124mbeing pressed\u001b[39m\u001b[38;5;124m'\u001b[39m)\n\u001b[0;32m      6\u001b[0m )\n\u001b[0;32m      7\u001b[0m button\u001b[38;5;241m.\u001b[39mpack()\n\u001b[1;32m----> 8\u001b[0m mainloop()\n",
      "File \u001b[1;32md:\\apps\\anaconda\\Lib\\tkinter\\__init__.py:653\u001b[0m, in \u001b[0;36mmainloop\u001b[1;34m(n)\u001b[0m\n\u001b[0;32m    651\u001b[0m \u001b[38;5;28;01mdef\u001b[39;00m \u001b[38;5;21mmainloop\u001b[39m(n\u001b[38;5;241m=\u001b[39m\u001b[38;5;241m0\u001b[39m):\n\u001b[0;32m    652\u001b[0m \u001b[38;5;250m    \u001b[39m\u001b[38;5;124;03m\"\"\"Run the main loop of Tcl.\"\"\"\u001b[39;00m\n\u001b[1;32m--> 653\u001b[0m     _get_default_root(\u001b[38;5;124m'\u001b[39m\u001b[38;5;124mrun the main loop\u001b[39m\u001b[38;5;124m'\u001b[39m)\u001b[38;5;241m.\u001b[39mtk\u001b[38;5;241m.\u001b[39mmainloop(n)\n",
      "\u001b[1;31mKeyboardInterrupt\u001b[0m: "
     ]
    }
   ],
   "source": [
    "from tkinter import Button, mainloop\n",
    "\n",
    "# 在 Python 的 Tkinter GUI 应用中，我们想实现这样一个简单的功能：创建显示一个按钮，每当用户点击时，就打印出一段文字\n",
    "button = Button(\n",
    "    text = 'this is a button',\n",
    "    command = lambda: print('being pressed')\n",
    ")\n",
    "button.pack()\n",
    "mainloop()\n"
   ]
  },
  {
   "cell_type": "code",
   "execution_count": null,
   "id": "9bb9b46c",
   "metadata": {},
   "outputs": [],
   "source": [
    "from tkinter import Button, mainloop\n",
    "\n",
    "# 在 Python 的 Tkinter GUI 应用中，我们想实现这样一个简单的功能：创建显示一个按钮，每当用户点击时，就打印出一段文字\n",
    "def print_message():\n",
    "    print('being pressed')\n",
    "button = Button(\n",
    "    text = 'this is a button',\n",
    "    command = print_message\n",
    ")\n",
    "button.pack()\n",
    "mainloop()"
   ]
  },
  {
   "cell_type": "markdown",
   "id": "9e0ef921",
   "metadata": {},
   "source": [
    "## 函数式编程\n",
    "所谓函数式编程，是指代码中每一块都是不可变的（immutable），都由纯函数（pure function）的形式组成。这里的纯函数，是指函数本身相互独立、互不影响，对于相同的输入，总会有相同的输出，没有任何副作用。\n",
    "- 优点： 纯函数和不可变特性（幂等）\n",
    "- 但是python并不是一门函数式编程语言，只是提供了一些函数式编程的特性：map(),filter(),reduce()--通常结合匿名函数lambda使用\n",
    "- 通常来说，在我们想对集合中的元素进行一些操作时，如果操作非常简单，比如相加、累积这种，那么我们优先考虑 map()、filter()、reduce() 这类或者 list comprehension 的形式。\n",
    "    - 数据量非常多：更倾向函数式编程，效率更高\n",
    "    - 数据量较少： list comprehension（列表推导式）更加Pythonic--[expression for item in iterable if condition]\n",
    "    - 比较复杂的操作还是推荐for循环： 增加代码可读性"
   ]
  },
  {
   "cell_type": "code",
   "execution_count": null,
   "id": "f1049058",
   "metadata": {},
   "outputs": [],
   "source": [
    "# 非函数式编程\n",
    "def multiply_2(l):\n",
    "    for index in range(0, len(l)):\n",
    "        l[index] *= 2\n",
    "    return l\n",
    "\n",
    "# 函数式编程\n",
    "def multiply_2_pure(l):\n",
    "    new_list = []\n",
    "    for item in l:\n",
    "        new_list.append(item *2)\n",
    "\n",
    "    return new_list"
   ]
  },
  {
   "cell_type": "code",
   "execution_count": null,
   "id": "7bd46618",
   "metadata": {},
   "outputs": [],
   "source": [
    "!python3 -mtimeit -s'xs=range(1000000)' 'map(lambda x: x*2, xs)'\n",
    "\n",
    "!python3 -mtimeit -s'xs=range(1000000)' '[x * 2 for x in xs]'\n",
    "\n",
    "!python3 -mtimeit -s'xs=range(1000000)' 'l = []' 'for i in xs: l.append(i * 2)'\n",
    "# map最快，因为直接由c函数编写，运行时不需要通过python解释器间接调用，并且内部做了诸多优化\n"
   ]
  },
  {
   "cell_type": "code",
   "execution_count": 26,
   "id": "8b01a23f",
   "metadata": {},
   "outputs": [
    {
     "name": "stdout",
     "output_type": "stream",
     "text": [
      "[2, 4]\n"
     ]
    },
    {
     "ename": "",
     "evalue": "",
     "output_type": "error",
     "traceback": [
      "\u001b[1;31mThe Kernel crashed while executing code in the current cell or a previous cell. \n",
      "\u001b[1;31mPlease review the code in the cell(s) to identify a possible cause of the failure. \n",
      "\u001b[1;31mClick <a href='https://aka.ms/vscodeJupyterKernelCrash'>here</a> for more info. \n",
      "\u001b[1;31mView Jupyter <a href='command:jupyter.viewOutput'>log</a> for further details."
     ]
    }
   ],
   "source": [
    "# filter\n",
    "l = [1, 2, 3, 4, 5]\n",
    "# 返回的是一个迭代器\n",
    "new_list = filter(lambda x: x % 2 == 0, l)\n",
    "# for value in new_list:\n",
    "#     print(value)\n",
    "print(list(new_list))\n"
   ]
  },
  {
   "cell_type": "code",
   "execution_count": 19,
   "id": "3c0333c8",
   "metadata": {},
   "outputs": [
    {
     "name": "stdout",
     "output_type": "stream",
     "text": [
      "120\n"
     ]
    }
   ],
   "source": [
    "# reduce 类似于map-reduce中的reduce，可以进行累乘、相加等操作\n",
    "from functools import reduce\n",
    "l = [1, 2, 3, 4, 5]\n",
    "product = reduce(lambda x, y: x * y, l)\n",
    "print(product)\n"
   ]
  },
  {
   "cell_type": "code",
   "execution_count": 21,
   "id": "b7a81b69",
   "metadata": {},
   "outputs": [
    {
     "data": {
      "text/plain": [
       "[('ben', 30), ('mike', 10), ('lucy', 2)]"
      ]
     },
     "execution_count": 21,
     "metadata": {},
     "output_type": "execute_result"
    }
   ],
   "source": [
    "# map 排序\n",
    "d = {'mike': 10, 'lucy': 2, 'ben': 30}\n",
    "sorted(d.items(), key=lambda x: x[1], reverse=True)"
   ]
  },
  {
   "cell_type": "code",
   "execution_count": 9,
   "id": "fdb43160",
   "metadata": {},
   "outputs": [
    {
     "name": "stdout",
     "output_type": "stream",
     "text": [
      "True\n",
      "False\n"
     ]
    }
   ],
   "source": [
    "l1 = [1, 2, 3]\n",
    "l2 = [1, 2, 3]\n",
    "l3 = l2\n",
    "print(l3 is l2)\n",
    "print(l1 is l2)"
   ]
  }
 ],
 "metadata": {
  "kernelspec": {
   "display_name": "Python 3.12 (XPython)",
   "language": "python",
   "name": "xpython"
  },
  "language_info": {
   "file_extension": ".py",
   "mimetype": "text/x-python",
   "name": "python",
   "version": "3.12.1"
  }
 },
 "nbformat": 4,
 "nbformat_minor": 5
}
