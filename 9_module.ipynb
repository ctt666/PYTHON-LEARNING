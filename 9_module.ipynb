{
 "cells": [
  {
   "cell_type": "markdown",
   "metadata": {},
   "source": [
    "#### 模块化\n",
    "- 简单模块化： 把类、函数、常量拆分到不同的文件，放在同一个目录下\n",
    "    - 调用方式： from file_name import function_name, class_name\n",
    "    - 使用.代替/表示子目录\n",
    "    - 调用sys.path.append(\"..\")，将当前程序位置向上提升一级，从而调用上层目录--不推荐：固定一个确定路径对大型工程是非常必要的\n",
    "    - import 同一模块只会被执行一次，可以防止重复导入模块出现问题-必须位于程序的最前端\n",
    "    - python2中规范要求在模块所在文件夹新建一个__init__.py文件，python3规范中已不是必须的了\n",
    "- 项目模块化（谷歌的模块化组织：https://cacm.acm.org/research/why-google-stores-billions-of-lines-of-code-in-a-single-repository/）\n",
    "    - 不使用相对路径： 因为代码可能迁移，尽可能使用绝对位置\n",
    "        - 对于一个独立的项目，所有的模块的追寻方式，最好从项目的根目录开始追溯，这叫做相对的绝对路径。\n",
    "    - python解释器在遇到import的时候，会在一个特定的列表中寻找模块--print(sys.path)\n",
    "特性：\n",
    "- “if __name__ == '__main__'”： \n",
    "    - python是脚本语言，不需要显示提供main函数入口；\n",
    "    - import 在导入文件的时候，会自动把所有暴露在外面的代码全部执行一遍。\n",
    "    - 这样的写法可以实现模块封装，在import时候不自动执行，但是可以通过这种方式选择执行\n",
    "    - __name__作为python的魔术内置参数，本质上是模块对象的一个属性。我们使用import语句时，__name__就会被赋值为该模块的名字，也就不等于main，所以不会被执行。\n",
    "- from module_name import *: 会把module中所有的函数和类全拿过来，可能会和其他函数名类名冲突\n",
    "- import module_name: 也会导入所有函数和类，但是调用的时候必须通过module_name.进行调用,相当于增加了一层，有效避免冲突"
   ]
  },
  {
   "cell_type": "code",
   "execution_count": 2,
   "metadata": {},
   "outputs": [
    {
     "name": "stdout",
     "output_type": "stream",
     "text": [
      "[[19, 22], [43, 50]]\n"
     ]
    },
    {
     "data": {
      "text/plain": [
       "[[19, 22], [43, 50]]"
      ]
     },
     "execution_count": 2,
     "metadata": {},
     "output_type": "execute_result"
    }
   ],
   "source": [
    "# src/main.py\n",
    "\n",
    "from proto.mat import Matrix\n",
    "from utils.mat_mul import mat_mul\n",
    "\n",
    "\n",
    "a = Matrix([[1, 2], [3, 4]])\n",
    "b = Matrix([[5, 6], [7, 8]])\n",
    "\n",
    "print(mat_mul(a, b).data)\n",
    "\n",
    "########## 输出 ##########\n",
    "\n",
    "[[19, 22], [43, 50]]"
   ]
  },
  {
   "cell_type": "code",
   "execution_count": 3,
   "metadata": {},
   "outputs": [
    {
     "name": "stdout",
     "output_type": "stream",
     "text": [
      "['d:\\\\python_project\\\\PYTHON-LEARNING', 'd:\\\\apps\\\\anaconda\\\\python312.zip', 'd:\\\\apps\\\\anaconda\\\\DLLs', 'd:\\\\apps\\\\anaconda\\\\Lib', 'd:\\\\apps\\\\anaconda', '', 'd:\\\\apps\\\\anaconda\\\\Lib\\\\site-packages', 'd:\\\\apps\\\\anaconda\\\\Lib\\\\site-packages\\\\win32', 'd:\\\\apps\\\\anaconda\\\\Lib\\\\site-packages\\\\win32\\\\lib', 'd:\\\\apps\\\\anaconda\\\\Lib\\\\site-packages\\\\Pythonwin', 'd:\\\\apps\\\\anaconda\\\\Lib\\\\site-packages\\\\setuptools\\\\_vendor']\n"
     ]
    }
   ],
   "source": [
    "import sys  \n",
    "\n",
    "print(sys.path)\n",
    "# 第一项为项目根目录的绝对地址\n",
    "# 确保每个虚拟环境的第一项为项目根目录：PYTHONHOME"
   ]
  }
 ],
 "metadata": {
  "kernelspec": {
   "display_name": "base",
   "language": "python",
   "name": "python3"
  },
  "language_info": {
   "codemirror_mode": {
    "name": "ipython",
    "version": 3
   },
   "file_extension": ".py",
   "mimetype": "text/x-python",
   "name": "python",
   "nbconvert_exporter": "python",
   "pygments_lexer": "ipython3",
   "version": "3.12.7"
  }
 },
 "nbformat": 4,
 "nbformat_minor": 2
}
