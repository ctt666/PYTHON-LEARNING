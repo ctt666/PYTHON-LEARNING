{
 "cells": [
  {
   "cell_type": "markdown",
   "metadata": {},
   "source": [
    "### 垃圾回收\n",
    "- 内存泄漏: 指程序本身没有设计好，导致程序未能释放已不再使用的内存,进而失去了对这段内存的控制，从而造成了内存的浪费。\n",
    "- 查看引用计数: sys.getrefcount(),如果调用那么getrefcount 本身也会引入一次计数。sys.getrefcount() 函数并不是统计一个指针，而是要统计一个对象被引用的次数，所以最后一共会有八次引用。\n",
    "- 手动释放内存:\n",
    "    - del a\n",
    "    - gc.collect()\n",
    "- 引用次数为 0 是垃圾回收启动的充分非必要条件.\n",
    "- Python 使用标记清除（mark-sweep）算法和分代收集（generational），来启用针对循环引用的自动垃圾回收。\n",
    "    - 在 Python 的垃圾回收实现中，mark-sweep 使用双向链表维护了一个数据结构，并且只考虑容器类的对象（只有容器类对象才有可能产生循环引用）。\n",
    "    - Python 将所有对象分为三代。刚刚创立的对象是第 0 代；经过一次垃圾回收后，依然存在的对象，便会依次从上一代挪到下一代。而每一代启动自动垃圾回收的阈值，则是可以单独指定的。当垃圾回收器中新增对象减去删除对象达到相应的阈值时，就会对这一代对象启动垃圾回收。分代收集基于的思想是，新生的对象更有可能被垃圾回收，而存活更久的对象也有更高的概率继续存活。"
   ]
  },
  {
   "cell_type": "code",
   "execution_count": 4,
   "metadata": {},
   "outputs": [
    {
     "name": "stdout",
     "output_type": "stream",
     "text": [
      "2\n",
      "3\n",
      "2\n"
     ]
    }
   ],
   "source": [
    "import sys\n",
    "\n",
    "a = []\n",
    "\n",
    "# 两次引用，一次来自 a，一次来自 getrefcount\n",
    "print(sys.getrefcount(a))\n",
    "\n",
    "def func(a):\n",
    "    # 三次引用，a，python 的函数调用栈，函数参数，和 getrefcount\n",
    "    print(sys.getrefcount(a))\n",
    "\n",
    "func(a)\n",
    "\n",
    "# 两次引用，一次来自 a，一次来自 getrefcount，函数 func 调用已经不存在\n",
    "print(sys.getrefcount(a))"
   ]
  },
  {
   "cell_type": "code",
   "execution_count": 5,
   "metadata": {},
   "outputs": [
    {
     "name": "stdout",
     "output_type": "stream",
     "text": [
      "2\n",
      "3\n",
      "8\n"
     ]
    },
    {
     "data": {
      "text/plain": [
       "8"
      ]
     },
     "execution_count": 5,
     "metadata": {},
     "output_type": "execute_result"
    }
   ],
   "source": [
    "import sys\n",
    "\n",
    "a = []\n",
    "\n",
    "print(sys.getrefcount(a)) # 两次\n",
    "\n",
    "b = a\n",
    "\n",
    "print(sys.getrefcount(a)) # 三次\n",
    "\n",
    "c = b\n",
    "d = b\n",
    "e = c\n",
    "f = e\n",
    "g = d\n",
    "\n",
    "print(sys.getrefcount(a)) # 八次\n",
    "\n",
    "########## 输出 ##########\n",
    "\n",
    "2\n",
    "3\n",
    "8"
   ]
  },
  {
   "cell_type": "markdown",
   "metadata": {},
   "source": [
    "### 调试内存泄漏\n",
    "- objgraph，一个非常好用的可视化引用关系的包。\n",
    "    - show_refs()，它可以生成清晰的引用关系图。\n",
    "    - show_backrefs(),有用的参数，比如层数限制（max_depth）、宽度限制（too_many）、输出格式控制（filename output）、节点过滤（filter, extra_ignore）等。"
   ]
  },
  {
   "cell_type": "code",
   "execution_count": 7,
   "metadata": {},
   "outputs": [
    {
     "name": "stdout",
     "output_type": "stream",
     "text": [
      "Graph written to /var/folders/m2/fcsv3wxs7hs7sms1cny8x0180000gn/T/objgraph-vj7v3_bz.dot (8 nodes)\n",
      "Graph viewer (xdot) and image renderer (dot) not found, not doing anything else\n"
     ]
    }
   ],
   "source": [
    "import objgraph\n",
    "\n",
    "a = [1, 2, 3]\n",
    "b = [4, 5, 6]\n",
    "\n",
    "a.append(b)\n",
    "b.append(a)\n",
    "\n",
    "objgraph.show_refs([a])"
   ]
  },
  {
   "cell_type": "code",
   "execution_count": null,
   "metadata": {},
   "outputs": [],
   "source": [
    "import objgraph\n",
    "\n",
    "a = [1, 2, 3]\n",
    "b = [4, 5, 6]\n",
    "\n",
    "a.append(b)\n",
    "b.append(a)\n",
    "\n",
    "objgraph.show_backrefs([a])"
   ]
  }
 ],
 "metadata": {
  "kernelspec": {
   "display_name": "base",
   "language": "python",
   "name": "python3"
  },
  "language_info": {
   "codemirror_mode": {
    "name": "ipython",
    "version": 3
   },
   "file_extension": ".py",
   "mimetype": "text/x-python",
   "name": "python",
   "nbconvert_exporter": "python",
   "pygments_lexer": "ipython3",
   "version": "3.12.4"
  }
 },
 "nbformat": 4,
 "nbformat_minor": 2
}
