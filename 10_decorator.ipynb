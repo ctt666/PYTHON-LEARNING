{
 "cells": [
  {
   "cell_type": "code",
   "execution_count": null,
   "metadata": {},
   "outputs": [],
   "source": [
    "### 装饰器\n",
    "- 是什么: 对某个功能(函数)的额外包装(wrapper)\n",
    "- 应用场景:日志、缓存\n",
    "- 函数装饰器:\n",
    "    - @:语法糖\n",
    "    - 带有参数的装饰器: 在对应装饰器函数加上参数;多参数使用*args(任意数量的位置参数)和**kwargs(任意数量的关键字参数)\n",
    "    - 带有自定义参数:定义在最外层\n",
    "    - 被装饰以后,元信息会改变--在装饰器函数上适应内置@functools.wrap,保留原函数的元信息--作用是将原函数的元信息拷贝到装饰器函数里\n",
    "- 类装饰器:\n",
    "    - 主要依赖函数__call__(),调用类的实例时,__call__()会被执行一次\n",
    "- 装饰器潜嵌套:\n",
    "    - 执行顺序:从上到下"
   ]
  },
  {
   "cell_type": "code",
   "execution_count": 52,
   "metadata": {},
   "outputs": [
    {
     "name": "stdout",
     "output_type": "stream",
     "text": [
      "wrapper of decorator\n",
      "hello world\n"
     ]
    }
   ],
   "source": [
    "# 朴素的装饰器\n",
    "def my_decorator(func):\n",
    "    def wrapper():\n",
    "        print('wrapper of decorator')\n",
    "        func()\n",
    "    return wrapper\n",
    "\n",
    "def greet():\n",
    "    print('hello world')\n",
    "\n",
    "greet = my_decorator(greet)\n",
    "greet()"
   ]
  },
  {
   "cell_type": "code",
   "execution_count": 53,
   "metadata": {},
   "outputs": [
    {
     "name": "stdout",
     "output_type": "stream",
     "text": [
      "wrapper of decorator\n",
      "hello world\n"
     ]
    }
   ],
   "source": [
    "# 优雅的装饰器demo\n",
    "def my_decorator(func):\n",
    "    def wrapper():\n",
    "        print('wrapper of decorator')\n",
    "        func()\n",
    "    return wrapper\n",
    "\n",
    "@my_decorator\n",
    "def greet():\n",
    "    print('hello world')\n",
    "\n",
    "greet()"
   ]
  },
  {
   "cell_type": "code",
   "execution_count": 80,
   "metadata": {},
   "outputs": [
    {
     "name": "stdout",
     "output_type": "stream",
     "text": [
      "wrapper of decorator\n",
      "Hello World\n"
     ]
    }
   ],
   "source": [
    "def my_decorator(func):\n",
    "    def wrapper(message):\n",
    "        print('wrapper of decorator')\n",
    "        func(message)\n",
    "    return wrapper\n",
    "\n",
    "@my_decorator\n",
    "def greet(message):\n",
    "    print(message)\n",
    "\n",
    "greet('Hello World')"
   ]
  },
  {
   "cell_type": "code",
   "execution_count": 99,
   "metadata": {},
   "outputs": [
    {
     "name": "stdout",
     "output_type": "stream",
     "text": [
      "wrapper of decorator Hello World\n",
      "Hello World\n"
     ]
    }
   ],
   "source": [
    "def my_decorator(func):\n",
    "    def wrapper(*args, **kwargs):\n",
    "        print('wrapper of decorator {}'.format(kwargs['message']))\n",
    "        func(*args, **kwargs)\n",
    "    return wrapper\n",
    "\n",
    "@my_decorator\n",
    "def greet(message):\n",
    "    print(message)\n",
    "\n",
    "greet(message='Hello World')"
   ]
  },
  {
   "cell_type": "code",
   "execution_count": 173,
   "metadata": {},
   "outputs": [
    {
     "name": "stdout",
     "output_type": "stream",
     "text": [
      "wrapper of decorator\n",
      "Hello\n",
      "wrapper of decorator\n",
      "Hello\n",
      "wrapper of decorator\n",
      "Hello\n",
      "wrapper of decorator\n",
      "Hello\n",
      "greet\n"
     ]
    }
   ],
   "source": [
    "import functools\n",
    "def repeat(num):\n",
    "    def my_decorator(func):\n",
    "        @functools.wraps(func)\n",
    "        def wrapper(*args, **kwargs):\n",
    "            for i in range(num):\n",
    "                print('wrapper of decorator')\n",
    "                func(*args, **kwargs)\n",
    "        return wrapper\n",
    "    return my_decorator\n",
    "\n",
    "@repeat(4)\n",
    "def greet(message):\n",
    "    print(message)\n",
    "\n",
    "greet(\"Hello\")\n",
    "print(greet.__name__)"
   ]
  },
  {
   "cell_type": "code",
   "execution_count": 259,
   "metadata": {},
   "outputs": [
    {
     "name": "stdout",
     "output_type": "stream",
     "text": [
      "num of calls is: 1\n",
      "num of calls is: 2\n"
     ]
    }
   ],
   "source": [
    "#类装饰器demo\n",
    "class Count:\n",
    "    def __init__(self, func):\n",
    "        self.func = func\n",
    "        self.num_calls = 0\n",
    "    def __call__(self, *args, **kwargs):\n",
    "        self.num_calls += 1\n",
    "        print('num of calls is: {}'.format(self.num_calls))\n",
    "        return self.func(*args, **kwargs)\n",
    "\n",
    "@Count\n",
    "def example():\n",
    "    print(\"example\")\n",
    "\n",
    "example()\n",
    "example()"
   ]
  },
  {
   "cell_type": "code",
   "execution_count": 325,
   "metadata": {},
   "outputs": [
    {
     "name": "stdout",
     "output_type": "stream",
     "text": [
      "execute decorator1\n",
      "execute decorator2\n",
      "Hello\n"
     ]
    }
   ],
   "source": [
    "import functools\n",
    "\n",
    "def my_decorator1(func):\n",
    "    @functools.wraps(func)\n",
    "    def wrapper(*args, **kwargs):\n",
    "        print('execute decorator1')\n",
    "        func(*args, **kwargs)\n",
    "    return wrapper\n",
    "\n",
    "def my_decorator2(func):\n",
    "    @functools.wraps(func)\n",
    "    def wrapper(*args, **kwargs):\n",
    "        print('execute decorator2')\n",
    "        func(*args, **kwargs)\n",
    "    return wrapper\n",
    "\n",
    "@my_decorator1\n",
    "@my_decorator2\n",
    "def greet(message):\n",
    "    print(message)\n",
    "\n",
    "greet(\"Hello\")"
   ]
  },
  {
   "cell_type": "markdown",
   "metadata": {},
   "source": [
    "### 典型应用demo"
   ]
  },
  {
   "cell_type": "code",
   "execution_count": null,
   "metadata": {},
   "outputs": [],
   "source": [
    "# 身份认证\n",
    "import functools\n",
    "\n",
    "def authenticate(func):\n",
    "    @functools.wraps(func)\n",
    "    def wrapper(*args, **kwargs):\n",
    "        request = args[0]\n",
    "        if check_user_logged_in(request): # 如果用户处于登录状态\n",
    "            return func(*args, **kwargs) # 执行函数post_comment() \n",
    "        else:\n",
    "            raise Exception('Authentication failed')\n",
    "    return wrapper\n",
    "    \n",
    "@authenticate\n",
    "def post_comment(request, ...)\n",
    "    ...\n",
    " "
   ]
  },
  {
   "cell_type": "code",
   "execution_count": null,
   "metadata": {},
   "outputs": [],
   "source": [
    "# 日志\n",
    "import time\n",
    "import functools\n",
    "\n",
    "def log_execution_time(func):\n",
    "    @functools.wraps(func)\n",
    "    def wrapper(*args, **kwargs):\n",
    "        start = time.perf_counter()\n",
    "        res = func(*args, **kwargs)\n",
    "        end = time.perf_counter()\n",
    "        print('{} took {} ms'.format(func.__name__, (end - start) * 1000))\n",
    "        return res\n",
    "    return wrapper\n",
    "    \n",
    "@log_execution_time\n",
    "def calculate_similarity(items):\n",
    "    ..."
   ]
  },
  {
   "cell_type": "code",
   "execution_count": null,
   "metadata": {},
   "outputs": [],
   "source": [
    "# 输入合理性检查\n",
    "import functools\n",
    "\n",
    "def validation_check(input):\n",
    "    @functools.wraps(func)\n",
    "    def wrapper(*args, **kwargs): \n",
    "        if check_params(*args, **kwargs):\n",
    "            return func(*args, **kwargs)\n",
    "        else:\n",
    "            raise Exception('Parameter validation failed')\n",
    "    \n",
    "@validation_check\n",
    "def neural_network_training(param1, param2, ...):\n",
    "    ..."
   ]
  },
  {
   "cell_type": "code",
   "execution_count": 377,
   "metadata": {},
   "outputs": [
    {
     "name": "stdout",
     "output_type": "stream",
     "text": [
      "832040\n"
     ]
    }
   ],
   "source": [
    "# 缓存\n",
    "from functools import lru_cache \n",
    "# 自动缓存函数的返回值,避免重复计算\n",
    "\n",
    "@lru_cache\n",
    "def fibonacci(n):\n",
    "    if n < 2:\n",
    "        return n\n",
    "    return fibonacci(n-1) + fibonacci(n-2)\n",
    "\n",
    "print(fibonacci(30))"
   ]
  }
 ],
 "metadata": {
  "kernelspec": {
   "display_name": "Python 3.12 (XPython)",
   "language": "python",
   "name": "xpython"
  },
  "language_info": {
   "file_extension": ".py",
   "mimetype": "text/x-python",
   "name": "python",
   "version": "3.12.1"
  }
 },
 "nbformat": 4,
 "nbformat_minor": 2
}
