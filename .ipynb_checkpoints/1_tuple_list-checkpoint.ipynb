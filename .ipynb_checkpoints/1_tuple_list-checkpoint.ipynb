{
 "cells": [
  {
   "cell_type": "markdown",
   "metadata": {},
   "source": [
    "## 初始化列表和元祖\n",
    "\n",
    "### 特点\n",
    "- 列表是可变的，元组是不可变的\n",
    "- 可以放置任意数据类型的有序集合\n",
    "- 列表初始化使用[]效率更高:list()是一个function call，Python的function call会创建stack，并且进行一系列参数检查的操作;反观[]是一个内置的C函数，可以直接被调用"
   ]
  },
  {
   "cell_type": "code",
   "execution_count": 1,
   "metadata": {},
   "outputs": [
    {
     "data": {
      "text/plain": [
       "(1, 2, 'hello', 'world')"
      ]
     },
     "execution_count": 1,
     "metadata": {},
     "output_type": "execute_result"
    }
   ],
   "source": [
    "l = [1, 2, 'hello', 'world']\n",
    "l\n",
    "\n",
    "tup = (1, 2, 'hello', 'world')\n",
    "tup\n",
    "\n"
   ]
  },
  {
   "cell_type": "code",
   "execution_count": 3,
   "metadata": {},
   "outputs": [
    {
     "data": {
      "text/plain": [
       "[1, 2, 'hello', 'ctt']"
      ]
     },
     "execution_count": 3,
     "metadata": {},
     "output_type": "execute_result"
    }
   ],
   "source": [
    "l[3] = 'ctt'\n",
    "l"
   ]
  },
  {
   "cell_type": "code",
   "execution_count": 4,
   "metadata": {},
   "outputs": [
    {
     "ename": "TypeError",
     "evalue": "'tuple' object does not support item assignment",
     "output_type": "error",
     "traceback": [
      "\u001b[0;31m---------------------------------------------------------------------------\u001b[0m",
      "\u001b[0;31mTypeError\u001b[0m                                 Traceback (most recent call last)",
      "Cell \u001b[0;32mIn[4], line 1\u001b[0m\n\u001b[0;32m----> 1\u001b[0m \u001b[43mtup\u001b[49m\u001b[43m[\u001b[49m\u001b[38;5;241;43m3\u001b[39;49m\u001b[43m]\u001b[49m \u001b[38;5;241m=\u001b[39m \u001b[38;5;124m'\u001b[39m\u001b[38;5;124mctt\u001b[39m\u001b[38;5;124m'\u001b[39m\n\u001b[1;32m      2\u001b[0m tup\n",
      "\u001b[0;31mTypeError\u001b[0m: 'tuple' object does not support item assignment"
     ]
    }
   ],
   "source": [
    "tup[3] = 'ctt'\n",
    "tup"
   ]
  },
  {
   "cell_type": "code",
   "execution_count": 8,
   "metadata": {},
   "outputs": [
    {
     "data": {
      "text/plain": [
       "[1, 2, 'hello', 'ctt', 'ctt', 3, 3, 3]"
      ]
     },
     "execution_count": 8,
     "metadata": {},
     "output_type": "execute_result"
    }
   ],
   "source": [
    "# append 追加\n",
    "l.append(3)\n",
    "l"
   ]
  },
  {
   "cell_type": "code",
   "execution_count": 72,
   "metadata": {},
   "outputs": [
    {
     "name": "stdout",
     "output_type": "stream",
     "text": [
      "(3, 1, 5, 3)\n"
     ]
    },
    {
     "ename": "TypeError",
     "evalue": "unsupported operand type(s) for -: 'tuple' and 'tuple'",
     "output_type": "error",
     "traceback": [
      "\u001b[0;31m---------------------------------------------------------------------------\u001b[0m",
      "\u001b[0;31mTypeError\u001b[0m                                 Traceback (most recent call last)",
      "Cell \u001b[0;32mIn[72], line 3\u001b[0m\n\u001b[1;32m      1\u001b[0m new_tup \u001b[38;5;241m=\u001b[39m tup \u001b[38;5;241m+\u001b[39m (\u001b[38;5;241m3\u001b[39m,)\n\u001b[1;32m      2\u001b[0m \u001b[38;5;28mprint\u001b[39m(new_tup)\n\u001b[0;32m----> 3\u001b[0m new_tup \u001b[38;5;241m=\u001b[39m \u001b[43mnew_tup\u001b[49m\u001b[43m \u001b[49m\u001b[38;5;241;43m-\u001b[39;49m\u001b[43m \u001b[49m\u001b[43m(\u001b[49m\u001b[38;5;241;43m3\u001b[39;49m\u001b[43m,\u001b[49m\u001b[43m)\u001b[49m\n\u001b[1;32m      4\u001b[0m \u001b[38;5;28mprint\u001b[39m(new_tup)\n",
      "\u001b[0;31mTypeError\u001b[0m: unsupported operand type(s) for -: 'tuple' and 'tuple'"
     ]
    }
   ],
   "source": [
    "new_tup = tup + (3,)\n",
    "print(new_tup)"
   ]
  },
  {
   "cell_type": "markdown",
   "metadata": {},
   "source": [
    "## 基本操作 && 注意事项\n",
    "\n",
    "- Python 中的列表和元组都支持负数索引，-1 表示最后一个元素，-2 表示倒数第二个元素，以此类推。\n",
    "- 列表和元组都支持切片操作\n",
    "- 列表和元组都可以随意嵌套\n",
    "- 可以通过 list() 和 tuple() 函数相互转换\n",
    "- 内置函数: count, index, reverse, sort, reversed, sorted"
   ]
  },
  {
   "cell_type": "code",
   "execution_count": 12,
   "metadata": {},
   "outputs": [
    {
     "name": "stdout",
     "output_type": "stream",
     "text": [
      "3\n",
      "world\n",
      "[2, 'hello']\n",
      "(2, 'hello')\n"
     ]
    }
   ],
   "source": [
    "print(l[-1])\n",
    "print(tup[-1])\n",
    "\n",
    "print(l[1:3])\n",
    "print(tup[1:3])"
   ]
  },
  {
   "cell_type": "code",
   "execution_count": 17,
   "metadata": {},
   "outputs": [
    {
     "name": "stdout",
     "output_type": "stream",
     "text": [
      "[(11, 21, 'hello'), [2, 3, 'world']]\n",
      "([12, 22, 'hello'], (2, 3, 'world'))\n"
     ]
    }
   ],
   "source": [
    "l = [(11, 21, 'hello'), [2, 3, 'world']]\n",
    "tup = ([12, 22, 'hello'], (2, 3, 'world'))\n",
    "print(l)\n",
    "print(tup)"
   ]
  },
  {
   "cell_type": "code",
   "execution_count": 18,
   "metadata": {},
   "outputs": [
    {
     "name": "stdout",
     "output_type": "stream",
     "text": [
      "([12, 22, 'hello'], (2, 3, 'world'))\n",
      "(1, 2, 'ctt')\n"
     ]
    }
   ],
   "source": [
    "l = list(tup)\n",
    "print(tup)\n",
    "\n",
    "tup_1 = tuple([1, 2, 'ctt'])\n",
    "print(tup_1)"
   ]
  },
  {
   "cell_type": "code",
   "execution_count": 68,
   "metadata": {},
   "outputs": [
    {
     "name": "stdout",
     "output_type": "stream",
     "text": [
      "1\n",
      "0\n",
      "[5, 1, 3]\n",
      "[1, 3, 5]\n",
      "[5, 3, 1]\n",
      "[3]\n",
      "1\n",
      "0\n",
      "[5, 1, 3]\n",
      "[1, 3, 5]\n"
     ]
    }
   ],
   "source": [
    "# list\n",
    "l = [3, 1, 5]\n",
    "\n",
    "print(l.count(1))\n",
    "print(l.index(3))\n",
    "l.reverse()\n",
    "print(l)\n",
    "l.sort()\n",
    "print(l)\n",
    "print(list(reversed(l)))\n",
    "l.remove(1)\n",
    "l.pop()\n",
    "print(l)\n",
    "\n",
    "# tuple\n",
    "tup = (3, 1, 5)\n",
    "\n",
    "print(tup.count(1))\n",
    "print(tup.index(3))\n",
    "print(list(reversed(tup)))\n",
    "print(sorted(tup))"
   ]
  },
  {
   "cell_type": "markdown",
   "metadata": {},
   "source": [
    "## 性能\n",
    "- 存储性能差异\n",
    "    - 对于一些静态变量，比如元组，如果它不被使用并且占用空间不大时，Python 会暂时缓存这部分内存。这样，下次我们再创建同样大小的元组时，Python 就可以不用再向操作系统发出请求，去寻找内存，而是可以直接分配之前缓存的内存空间，这样就能大大加快程序的运行速度。\n"
   ]
  },
  {
   "cell_type": "code",
   "execution_count": 58,
   "metadata": {},
   "outputs": [
    {
     "name": "stdout",
     "output_type": "stream",
     "text": [
      "72\n",
      "48\n",
      "======================\n",
      "空列表大小: 40\n",
      "72\n",
      "72\n",
      "104\n",
      "======================\n",
      "空元组大小: 24\n",
      "32\n",
      "40\n"
     ]
    }
   ],
   "source": [
    "# 单位-字节\n",
    "print(l.__sizeof__())\n",
    "print(tup.__sizeof__())\n",
    "\n",
    "print(\"======================\")\n",
    "\n",
    "l1 = []\n",
    "# 创建空列表使用[],比list()效率更高\n",
    "print(\"空列表大小:\", l1.__sizeof__())\n",
    "l1.append(1)\n",
    "print(l1.__sizeof__())\n",
    "l1.append(2)\n",
    "l1.append(3)\n",
    "print(l1.__sizeof__())\n",
    "l1.append(4)\n",
    "l1.append(5)\n",
    "print(l1.__sizeof__())\n",
    "\n",
    "print(\"======================\")\n",
    "\n",
    "tup_1 = ()\n",
    "print(\"空元组大小:\", tup_1.__sizeof__())\n",
    "tup_1 += (1,)\n",
    "print(tup_1.__sizeof__())\n",
    "tup_1 += (2,)\n",
    "print(tup_1.__sizeof__())\n"
   ]
  },
  {
   "cell_type": "code",
   "execution_count": 65,
   "metadata": {},
   "outputs": [
    {
     "name": "stdout",
     "output_type": "stream",
     "text": [
      "50000000 loops, best of 5: 6.46 nsec per loop\n",
      "50000000 loops, best of 5: 6.45 nsec per loop\n"
     ]
    }
   ],
   "source": [
    "\n",
    "\n",
    "! python3 -m timeit 'x=(1,2,3,4,5,6)'"
   ]
  },
  {
   "cell_type": "code",
   "execution_count": 66,
   "metadata": {},
   "outputs": [
    {
     "name": "stdout",
     "output_type": "stream",
     "text": [
      "10000000 loops, best of 5: 30.7 nsec per loop\n"
     ]
    }
   ],
   "source": [
    "! python3 -m timeit 'x=[1,2,3,4,5,6]'"
   ]
  }
 ],
 "metadata": {
  "kernelspec": {
   "display_name": "base",
   "language": "python",
   "name": "python3"
  },
  "language_info": {
   "codemirror_mode": {
    "name": "ipython",
    "version": 3
   },
   "file_extension": ".py",
   "mimetype": "text/x-python",
   "name": "python",
   "nbconvert_exporter": "python",
   "pygments_lexer": "ipython3",
   "version": "3.12.4"
  }
 },
 "nbformat": 4,
 "nbformat_minor": 2
}
